{
  "cells": [
    {
      "cell_type": "markdown",
      "metadata": {
        "id": "j_Tv7xnM6K6d"
      },
      "source": [
        "# Decision Tree for Classification"
      ]
    },
    {
      "cell_type": "code",
      "execution_count": 2,
      "metadata": {
        "id": "M9Qy0WSd2qLF"
      },
      "outputs": [],
      "source": [
        "from sklearn import datasets\n",
        "from sklearn.model_selection import train_test_split\n",
        "from sklearn.metrics import accuracy_score\n",
        "from sklearn.tree import DecisionTreeClassifier"
      ]
    },
    {
      "cell_type": "code",
      "execution_count": 3,
      "metadata": {
        "colab": {
          "base_uri": "https://localhost:8080/"
        },
        "id": "cxz08hdg26jp",
        "outputId": "28463ff8-48e0-4324-d196-a73dc16c1f59"
      },
      "outputs": [
        {
          "data": {
            "text/plain": [
              "1.0"
            ]
          },
          "execution_count": 3,
          "metadata": {},
          "output_type": "execute_result"
        }
      ],
      "source": [
        "# Load the diabetes dataset\n",
        "iris_X , iris_y = datasets.load_iris(return_X_y=True)\n",
        "# Split train : test = 8:2\n",
        "X_train , X_test , y_train , y_test = train_test_split(\n",
        "  iris_X, iris_y,\n",
        "  test_size=0.2,\n",
        "  random_state=42)\n",
        "\n",
        "# Define model\n",
        "dt_classifier = DecisionTreeClassifier()\n",
        "\n",
        "# Train\n",
        "dt_classifier.fit(X_train, y_train)\n",
        "\n",
        "# Preidct and evaluate\n",
        "y_pred = dt_classifier.predict(X_test)\n",
        "accuracy_score(y_test, y_pred)"
      ]
    },
    {
      "cell_type": "markdown",
      "metadata": {
        "id": "dVIlwAva6Njh"
      },
      "source": [
        "# Decision Tree for Regression"
      ]
    },
    {
      "cell_type": "code",
      "execution_count": 5,
      "metadata": {
        "id": "rESIGkPu8Cqh"
      },
      "outputs": [],
      "source": [
        "from sklearn.datasets import fetch_openml\n",
        "from sklearn.model_selection import train_test_split\n",
        "from sklearn.metrics import mean_squared_error\n",
        "from sklearn.tree import DecisionTreeRegressor"
      ]
    },
    {
      "cell_type": "code",
      "execution_count": 6,
      "metadata": {
        "colab": {
          "base_uri": "https://localhost:8080/"
        },
        "id": "X1qMkU8Q8FLF",
        "outputId": "ad47aea3-3cce-45de-81bc-c7077bc27861"
      },
      "outputs": [
        {
          "name": "stderr",
          "output_type": "stream",
          "text": [
            "/usr/local/lib/python3.10/dist-packages/sklearn/datasets/_openml.py:311: UserWarning: Multiple active versions of the dataset matching the name machine_cpu exist. Versions may be fundamentally different, returning version 1.\n",
            "  warn(\n",
            "/usr/local/lib/python3.10/dist-packages/sklearn/datasets/_openml.py:1022: FutureWarning: The default value of `parser` will change from `'liac-arff'` to `'auto'` in 1.4. You can set `parser='auto'` to silence this warning. Therefore, an `ImportError` will be raised from 1.4 if the dataset is dense and pandas is not installed. Note that the pandas parser may return different data types. See the Notes Section in fetch_openml's API doc for details.\n",
            "  warn(\n"
          ]
        },
        {
          "data": {
            "text/plain": [
              "8870.380952380952"
            ]
          },
          "execution_count": 6,
          "metadata": {},
          "output_type": "execute_result"
        }
      ],
      "source": [
        "# Load dataset\n",
        "machine_cpu = fetch_openml(name='machine_cpu')\n",
        "machine_data = machine_cpu.data\n",
        "machine_labels = machine_cpu.target\n",
        "\n",
        "# Split train : test = 8:2\n",
        "X_train , X_test , y_train , y_test = train_test_split(\n",
        "  machine_data, machine_labels,\n",
        "  test_size=0.2 ,\n",
        "  random_state=42)\n",
        "\n",
        "# Define model\n",
        "tree_reg = DecisionTreeRegressor()\n",
        "\n",
        "# Train\n",
        "tree_reg.fit(X_train, y_train)\n",
        "\n",
        "# Preidct and evaluate\n",
        "y_pred = tree_reg.predict(X_test)\n",
        "mean_squared_error(y_test, y_pred)"
      ]
    }
  ],
  "metadata": {
    "colab": {
      "provenance": []
    },
    "kernelspec": {
      "display_name": "Python 3",
      "name": "python3"
    },
    "language_info": {
      "name": "python",
      "version": "3.11.4"
    }
  },
  "nbformat": 4,
  "nbformat_minor": 0
}
