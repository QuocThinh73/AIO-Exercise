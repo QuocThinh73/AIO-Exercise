{
 "cells": [
  {
   "cell_type": "code",
   "execution_count": null,
   "metadata": {},
   "outputs": [],
   "source": [
    "import numpy as np\n",
    "import pandas as pd\n",
    "import matplotlib.pyplot as plt\n",
    "import xgboost as xgb\n",
    "from sklearn.metrics import mean_squared_error, mean_absolute_error\n",
    "from sklearn.preprocessing import OrdinalEncoder\n",
    "from sklearn.model_selection import train_test_split"
   ]
  },
  {
   "cell_type": "code",
   "execution_count": null,
   "metadata": {},
   "outputs": [],
   "source": [
    "dataset_path = 'Problem3.csv'\n",
    "data_df = pd.read_csv(dataset_path)\n",
    "data_df"
   ]
  },
  {
   "cell_type": "code",
   "execution_count": null,
   "metadata": {},
   "outputs": [],
   "source": [
    "categorical_cols = data_df.select_dtypes(include=['object', 'bool']).columns.tolist()\n",
    "\n",
    "for col_name in categorical_cols:\n",
    "    n_categories = data_df[col_name].nunique()\n",
    "    print(f'Number of categories in {col_name}: {n_categories}')\n",
    "\n",
    "ordinal_encoder = OrdinalEncoder()\n",
    "encoded_categorical_cols = ordinal_encoder.fit_transform(data_df[categorical_cols])\n",
    "\n",
    "encoded_categorical_df = pd.DataFrame(\n",
    "    encoded_categorical_cols,\n",
    "    columns=categorical_cols\n",
    ")\n",
    "\n",
    "numerical_df = data_df.drop(categorical_cols, axis=1)\n",
    "encoded_df = pd.concat([numerical_df, encoded_categorical_df], axis=1)"
   ]
  },
  {
   "cell_type": "code",
   "execution_count": null,
   "metadata": {},
   "outputs": [],
   "source": []
  }
 ],
 "metadata": {
  "kernelspec": {
   "display_name": "Python 3",
   "language": "python",
   "name": "python3"
  },
  "language_info": {
   "codemirror_mode": {
    "name": "ipython",
    "version": 3
   },
   "file_extension": ".py",
   "mimetype": "text/x-python",
   "name": "python",
   "nbconvert_exporter": "python",
   "pygments_lexer": "ipython3",
   "version": "3.11.4"
  }
 },
 "nbformat": 4,
 "nbformat_minor": 2
}
