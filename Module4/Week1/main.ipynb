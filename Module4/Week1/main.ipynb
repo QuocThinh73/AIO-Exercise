{
 "cells": [
  {
   "cell_type": "markdown",
   "metadata": {},
   "source": [
    "# Bài tập 1\n",
    "Kỹ thuật đọc và xử lý dữ liệu từ file .csv"
   ]
  },
  {
   "cell_type": "code",
   "execution_count": 898,
   "metadata": {},
   "outputs": [],
   "source": [
    "# dataset\n",
    "import numpy as np \n",
    "import matplotlib.pyplot as plt \n",
    "import random\n",
    "\n",
    "def get_column(data, index):\n",
    "    result = []\n",
    "    for i in range(len(data)):\n",
    "        result.append(data[i][index])\n",
    "    return result\n",
    "\n",
    "def prepare_data(file_name_dataset):\n",
    "    data = np.genfromtxt(file_name_dataset, delimiter=',', skip_header=1).tolist()\n",
    "    N = len(data)\n",
    "\n",
    "    # get tv (index=0)\n",
    "    tv_data = get_column(data, 0)\n",
    "\n",
    "    # get radio (index=1)\n",
    "    radio_data = get_column(data, 1)\n",
    "\n",
    "    # get newspaper (index=2)\n",
    "    newspaper_data = get_column(data, 2)\n",
    "\n",
    "    # get sales (index=3)\n",
    "    sales_data = get_column(data, 3)\n",
    "\n",
    "    # building X input and y output for training\n",
    "    X = [tv_data, radio_data, newspaper_data]\n",
    "    y = sales_data\n",
    "    return X,y"
   ]
  },
  {
   "cell_type": "code",
   "execution_count": 899,
   "metadata": {},
   "outputs": [
    {
     "name": "stdout",
     "output_type": "stream",
     "text": [
      "[624.1, 175.10000000000002, 300.5, 78.9]\n"
     ]
    }
   ],
   "source": [
    "# Question 1\n",
    "X,y = prepare_data('advertising.csv')\n",
    "list = [sum(X[0][:5]), sum(X[1][:5]), sum(X[2][:5]), sum(y[:5])]\n",
    "print(list)"
   ]
  },
  {
   "cell_type": "markdown",
   "metadata": {},
   "source": [
    "# Bài tập 2\n",
    "Kỹ thuật huấn luyện data dùng one sample - linear regression"
   ]
  },
  {
   "cell_type": "markdown",
   "metadata": {},
   "source": [
    "## 2.1"
   ]
  },
  {
   "cell_type": "markdown",
   "metadata": {},
   "source": [
    "Hoàn thành function **initialize_params()** để khởi tạo ngẫu nhiên giá trị ban đầu cho w1, w2, w3 theo gaussian random.gauss(mu=0.0, sigma=0.01) và b = 0"
   ]
  },
  {
   "cell_type": "code",
   "execution_count": 900,
   "metadata": {},
   "outputs": [],
   "source": [
    "def initialize_params():\n",
    "    w1 = random.gauss(mu=0.0, sigma=0.01)\n",
    "    w2 = random.gauss(mu=0.0, sigma=0.01)\n",
    "    w3 = random.gauss(mu=0.0, sigma=0.01)\n",
    "    b = 0\n",
    "    return w1, w2, w3, b"
   ]
  },
  {
   "cell_type": "markdown",
   "metadata": {},
   "source": [
    "Vì để thống nhất việc đánh giá kết quả cho toàn bài tập trong module này, khởi tạo cố định wi, b như sau"
   ]
  },
  {
   "cell_type": "code",
   "execution_count": 901,
   "metadata": {},
   "outputs": [],
   "source": [
    "# Khởi tạo cụ thể để làm bài tập\n",
    "\n",
    "def initialize_params():\n",
    "    w1, w2, w3, b = (0.016992259082509283, 0.0070783670518262355, -0.002307860847821344, 0)\n",
    "    return w1, w2, w3, b"
   ]
  },
  {
   "cell_type": "markdown",
   "metadata": {},
   "source": [
    "## 2.2"
   ]
  },
  {
   "cell_type": "markdown",
   "metadata": {},
   "source": [
    "Hoàn thành function **predict(x1, x2, x3, w1, w2, w3, b)** để trả về kết quả dự đoán y tương ứng"
   ]
  },
  {
   "cell_type": "code",
   "execution_count": 902,
   "metadata": {},
   "outputs": [],
   "source": [
    "def predict(x1, x2, x3, w1, w2, w3, b):\n",
    "    result = x1*w1 + x2*w2 + x3*w3 + b\n",
    "    return result"
   ]
  },
  {
   "cell_type": "code",
   "execution_count": 903,
   "metadata": {},
   "outputs": [
    {
     "name": "stdout",
     "output_type": "stream",
     "text": [
      "1.0\n"
     ]
    }
   ],
   "source": [
    "# Question 2\n",
    "y_test = predict(x1=1, x2=1, x3=1, w1=0, w2=0.5, w3=0, b=0.5)\n",
    "print(y_test)"
   ]
  },
  {
   "cell_type": "markdown",
   "metadata": {},
   "source": [
    "## 2.3"
   ]
  },
  {
   "cell_type": "markdown",
   "metadata": {},
   "source": [
    "Hoàn thành function **compute_loss(y_hat, y)** để tính loss giữa kết quả dự đoán y_hat và giá trị thực y, sử dụng Mean Squared Error"
   ]
  },
  {
   "cell_type": "code",
   "execution_count": 904,
   "metadata": {},
   "outputs": [],
   "source": [
    "def compute_loss_mse(y_hat, y):\n",
    "\n",
    "    loss = (y_hat - y) ** 2\n",
    "\n",
    "    return loss"
   ]
  },
  {
   "cell_type": "code",
   "execution_count": 905,
   "metadata": {},
   "outputs": [
    {
     "name": "stdout",
     "output_type": "stream",
     "text": [
      "0.25\n"
     ]
    }
   ],
   "source": [
    "# Question 3\n",
    "l = compute_loss_mse(y_hat=1, y=0.5)\n",
    "print(l)"
   ]
  },
  {
   "cell_type": "markdown",
   "metadata": {},
   "source": [
    "## 2.4"
   ]
  },
  {
   "cell_type": "markdown",
   "metadata": {},
   "source": [
    "Hoàn thành function **compute_gradient_wi(xi, y, y_hat)** để tính đạo hàm của hàm loss $L = (\\hat{y} - y)^2$ theo wi và function **compute_gradient_b(y, y_hat)** để tính đạo hàm của hàm loss $L = (\\hat{y} - y)^2$ theo b"
   ]
  },
  {
   "cell_type": "code",
   "execution_count": 906,
   "metadata": {},
   "outputs": [],
   "source": [
    "# compute gradient\n",
    "def compute_gradient_wi(xi, y, y_hat):\n",
    "\n",
    "    dl_dwi = 2 * xi * (y_hat - y)\n",
    "\n",
    "    return dl_dwi\n",
    "\n",
    "def compute_gradient_b(y, y_hat):\n",
    "\n",
    "    dl_db = 2 * (y_hat - y)\n",
    "\n",
    "    return dl_db"
   ]
  },
  {
   "cell_type": "code",
   "execution_count": 907,
   "metadata": {},
   "outputs": [
    {
     "name": "stdout",
     "output_type": "stream",
     "text": [
      "-1.0\n"
     ]
    }
   ],
   "source": [
    "# Question 4\n",
    "g_wi = compute_gradient_wi(xi=1.0, y=1.0, y_hat=0.5)\n",
    "print(g_wi)"
   ]
  },
  {
   "cell_type": "code",
   "execution_count": 908,
   "metadata": {},
   "outputs": [
    {
     "name": "stdout",
     "output_type": "stream",
     "text": [
      "-3.0\n"
     ]
    }
   ],
   "source": [
    "# Question 5:\n",
    "g_b = compute_gradient_b(y=2.0, y_hat=0.5)\n",
    "print(g_b)"
   ]
  },
  {
   "cell_type": "markdown",
   "metadata": {},
   "source": [
    "## 2.5"
   ]
  },
  {
   "cell_type": "markdown",
   "metadata": {},
   "source": [
    "Hoàn thành function **update_weight_wi(wi, dl_dwi, lr)** để cập nhật wi sau khi tính đạo làm hàm loss L theo wi, và function **update_weight_b(b, dl_db, lr)** để update bias (b) sau khi tính đạo làm hàm loss L theo b"
   ]
  },
  {
   "cell_type": "code",
   "execution_count": 909,
   "metadata": {},
   "outputs": [],
   "source": [
    "# update weights\n",
    "def update_weight_wi(wi, dl_dwi, lr):\n",
    "\n",
    "    wi = wi - dl_dwi * lr\n",
    "\n",
    "    return wi\n",
    "\n",
    "def update_weight_b(b, dl_db, lr):\n",
    "\n",
    "    b = b - dl_db * lr\n",
    "\n",
    "    return b"
   ]
  },
  {
   "cell_type": "code",
   "execution_count": 910,
   "metadata": {},
   "outputs": [
    {
     "name": "stdout",
     "output_type": "stream",
     "text": [
      "1.000005\n"
     ]
    }
   ],
   "source": [
    "# Question 6\n",
    "after_wi = update_weight_wi(wi=1.0, dl_dwi=-0.5, lr=1e-5)\n",
    "print(after_wi)"
   ]
  },
  {
   "cell_type": "code",
   "execution_count": 911,
   "metadata": {},
   "outputs": [
    {
     "name": "stdout",
     "output_type": "stream",
     "text": [
      "0.50001\n"
     ]
    }
   ],
   "source": [
    "# Question 7\n",
    "after_b = update_weight_b(b=0.5, dl_db=-1.0, lr=1e-5)\n",
    "print(after_b)"
   ]
  },
  {
   "cell_type": "markdown",
   "metadata": {},
   "source": [
    "## 2.6"
   ]
  },
  {
   "cell_type": "markdown",
   "metadata": {},
   "source": [
    "Thực hiện huấn luyện data bằng cách gọi hàm **implement_linear_regression(X, y)** và vẽ đồ thị kết quả cho 100 giá trị loss đầu tiên (loss cho 100 lần cập nhật đầu tiên)"
   ]
  },
  {
   "cell_type": "code",
   "execution_count": 912,
   "metadata": {},
   "outputs": [],
   "source": [
    "def implement_linear_regression(X_data, y_data, epoch_max = 50, lr = 1e-5):\n",
    "    losses = []\n",
    "    \n",
    "    w1, w2, w3, b = initialize_params()\n",
    "\n",
    "    N = len(y_data)\n",
    "    \n",
    "    for epoch in range(epoch_max):\n",
    "        for i in range(N):\n",
    "            # get a sample\n",
    "            x1 = X_data[0][i]\n",
    "            x2 = X_data[1][i]\n",
    "            x3 = X_data[2][i]\n",
    "\n",
    "            y = y_data[i]\n",
    "\n",
    "            # computee output\n",
    "            y_hat = predict(x1, x2, x3, w1, w2, w3, b)\n",
    "\n",
    "            # compute loss\n",
    "            loss = compute_loss_mse(y, y_hat)\n",
    "\n",
    "            # compute gradient w1, w2, w3, b\n",
    "            dl_dw1 = compute_gradient_wi(x1, y, y_hat)\n",
    "            dl_dw2 = compute_gradient_wi(x2, y, y_hat)\n",
    "            dl_dw3 = compute_gradient_wi(x3, y, y_hat)\n",
    "            dl_db = compute_gradient_b(y, y_hat)\n",
    "\n",
    "            # update parameters\n",
    "            w1 = update_weight_wi(w1, dl_dw1, lr)\n",
    "            w2 = update_weight_wi(w2, dl_dw2, lr)\n",
    "            w3 = update_weight_wi(w3, dl_dw3, lr)\n",
    "            b = update_weight_b(b, dl_db, lr)\n",
    "\n",
    "            # logging\n",
    "            losses.append(loss)\n",
    "\n",
    "    return (w1, w2, w3, b, losses)"
   ]
  },
  {
   "cell_type": "code",
   "execution_count": 913,
   "metadata": {},
   "outputs": [
    {
     "data": {
      "image/png": "[encoded data removed]",
      "text/plain": [
       "<Figure size 640x480 with 1 Axes>"
      ]
     },
     "metadata": {},
     "output_type": "display_data"
    }
   ],
   "source": [
    "(w1, w2, w3, b, losses) = implement_linear_regression(X,y)\n",
    "plt.plot(losses[:100])\n",
    "plt.xlabel(\"#iteration\")\n",
    "plt.ylabel(\"Loss\")\n",
    "plt.show()"
   ]
  },
  {
   "cell_type": "code",
   "execution_count": 914,
   "metadata": {},
   "outputs": [
    {
     "name": "stdout",
     "output_type": "stream",
     "text": [
      "0.07405984066396477 0.15917360263437663 0.017561197559948935\n"
     ]
    }
   ],
   "source": [
    "# Question 8\n",
    "X,y = prepare_data('advertising.csv')\n",
    "(w1,w2,w3,b,losses) = implement_linear_regression(X,y)\n",
    "print(w1,w2,w3)"
   ]
  },
  {
   "cell_type": "code",
   "execution_count": 915,
   "metadata": {},
   "outputs": [
    {
     "name": "stdout",
     "output_type": "stream",
     "text": [
      "predicted sales is 8.176413319549823\n"
     ]
    }
   ],
   "source": [
    "# Question 9\n",
    "\n",
    "# given new data\n",
    "tv = 19.2\n",
    "radio = 35.9\n",
    "newspaper = 51.3\n",
    "\n",
    "X,y = prepare_data('advertising.csv')\n",
    "(w1,w2,w3,b,losses) = implement_linear_regression(X, y, epoch_max=50, lr=1e-5)\n",
    "sales = predict(tv, radio, newspaper, w1, w2, w3, b)\n",
    "print(f'predicted sales is {sales}')"
   ]
  },
  {
   "cell_type": "markdown",
   "metadata": {},
   "source": [
    "## 2.7"
   ]
  },
  {
   "cell_type": "markdown",
   "metadata": {},
   "source": [
    "Thực hiện huấn luyện data bằng cách thay thế hàm loss $L = (\\hat{y} - y)^2$ bằng hàm loss MAE $L = |\\hat{y} − y|$ và vẽ đồ thị kết quả hàm loss trong 100 interation đầu tiên"
   ]
  },
  {
   "cell_type": "code",
   "execution_count": 916,
   "metadata": {},
   "outputs": [
    {
     "name": "stdout",
     "output_type": "stream",
     "text": [
      "0.5\n"
     ]
    }
   ],
   "source": [
    "# Question 10\n",
    "def compute_loss_mae(y_hat, y):\n",
    "    result = abs(y_hat - y)\n",
    "    return result\n",
    "\n",
    "l = compute_loss_mae(y_hat=1, y=0.5)\n",
    "print(l)"
   ]
  },
  {
   "cell_type": "markdown",
   "metadata": {},
   "source": [
    "# Bài tập 3"
   ]
  },
  {
   "cell_type": "markdown",
   "metadata": {},
   "source": [
    "Kỹ thuật huấn luyện data dùng batch N samples - linear regression"
   ]
  },
  {
   "cell_type": "code",
   "execution_count": 917,
   "metadata": {},
   "outputs": [],
   "source": [
    "def implement_linear_regression_nsamples(X_data, y_data, epoch_max=50, lr=1e-5):\n",
    "    losses = []\n",
    "\n",
    "    w1, w2, w3, b = initialize_params()\n",
    "    N = len(y_data)\n",
    "\n",
    "    for epoch in range(epoch_max):\n",
    "\n",
    "        loss_total = 0\n",
    "        dw1_total = 0\n",
    "        dw2_total = 0\n",
    "        dw3_total = 0\n",
    "        db_total = 0\n",
    "\n",
    "        for i in range(N):\n",
    "            # get a sample\n",
    "            x1 = X_data[0][i]\n",
    "            x2 = X_data[1][i]\n",
    "            x3 = X_data[2][i]\n",
    "\n",
    "            y = y_data[i]\n",
    "\n",
    "            # compute output\n",
    "            y_hat = predict(x1, x2, x3, w1, w2, w3, b)\n",
    "\n",
    "            # compute loss\n",
    "            loss = compute_loss_mse(y_hat, y)\n",
    "\n",
    "            # accumulate loss\n",
    "            loss_total = loss_total + loss\n",
    "            \n",
    "            # compute gradient w1, w2, w3, b\n",
    "            dl_dw1 = compute_gradient_wi(x1, y, y_hat)\n",
    "            dl_dw2 = compute_gradient_wi(x2, y, y_hat)\n",
    "            dl_dw3 = compute_gradient_wi(x3, y, y_hat)\n",
    "            dl_db = compute_gradient_b(y, y_hat)\n",
    "\n",
    "            # accumulate gradient w1, w2, w3, b\n",
    "            dw1_total = dw1_total + dl_dw1\n",
    "            dw2_total = dw2_total + dl_dw2\n",
    "            dw3_total = dw3_total + dl_dw3\n",
    "            db_total = db_total + dl_db\n",
    "        \n",
    "        # (after processing N samples) - update parameters\n",
    "        \n",
    "        w1 = update_weight_wi(w1, dw1_total/N, lr)\n",
    "        w2 = update_weight_wi(w2, dw2_total/N, lr)\n",
    "        w3 = update_weight_wi(w3, dw3_total/N, lr)\n",
    "        b = update_weight_b(b, db_total/N, lr)\n",
    "\n",
    "        # logging\n",
    "        losses.append(loss_total/N)\n",
    "    return (w1, w2, w3, b, losses)"
   ]
  },
  {
   "cell_type": "code",
   "execution_count": 918,
   "metadata": {},
   "outputs": [
    {
     "name": "stdout",
     "output_type": "stream",
     "text": [
      "[172.98395547828923, 39.4081674745134, 18.15746728564735, 14.634633779162357, 13.913880074022757, 13.640049637323427, 13.441395294810789, 13.259118517018994, 13.083802587178743, 12.913826664416215, 12.748804182322559, 12.58854742072041, 12.432904005847659, 12.281730988201284, 12.134890631437667, 11.992249630675893, 11.853678875589457, 11.719053303032835, 11.588251767260099, 11.461156916275085, 11.33765507239911, 11.217636116651946, 11.100993376782947, 10.987623518830576, 10.877426442098113, 10.77030517743778, 10.666165788738786, 10.564917277518694, 10.466471490519933, 10.370743030217112, 10.277649168143098, 10.187109760945372, 10.099047169086274, 10.013386178104167, 9.930053922354572, 9.848979811153313, 9.770095457245782, 9.69333460752933, 9.61863307595747, 9.545928678557278, 9.475161170493593, 9.406272185115144, 9.339205174920474, 9.273905354383018, 9.210319644576826, 9.148396619546123, 9.088086454363877, 9.029340874825948, 8.972113108729593, 8.916357838686066, 8.86203115641928, 8.809090518503508, 8.757494703494807, 8.707203770412436, 8.658179018527385, 8.610382948417252, 8.563779224247194, 8.518332637238558, 8.474009070287702, 8.43077546369872, 8.388599781995037, 8.347450981775916, 8.307298980584829, 8.268114626757923, 8.229869670221678, 8.19253673420983, 8.15608928787063, 8.12050161973632, 8.08574881202778, 8.051806715767922, 8.018651926678372, 7.986261761834891, 7.95461423705739, 7.923688045011654, 7.893462534000133, 7.8639176874203045, 7.83503410386934, 7.80679297787497, 7.779176081232567, 7.752165744929602, 7.72574484163872, 7.699896768761744, 7.674605432007078, 7.649855229483877, 7.62563103629648, 7.6019181896236, 7.578702474266847, 7.555970108653729, 7.533707731281146, 7.511902387584981, 7.490541517222969, 7.4696129417572354, 7.449104852724421, 7.429005800080809, 7.40930468101089, 7.389990729087756, 7.3710535037744, 7.352482880254963, 7.334269039585795, 7.3164024591560475, 7.298873903448158, 7.281674415088787, 7.264795306180925, 7.248228149908579, 7.231964772405109, 7.21599724487724, 7.200317875976506, 7.184919204410329, 7.169793991785319, 7.154935215675346, 7.140336062907395, 7.1259899230582695, 7.111890382155645, 7.098031216576777, 7.084406387138987, 7.071010033375559, 7.057836467991437, 7.044880171492962, 7.032135786986158, 7.019598115138331, 7.007262109297766, 6.995122870766592, 6.983175644221961, 6.97141581328095, 6.959838896204477, 6.948440541736098, 6.937216525071263, 6.926162743952999, 6.915275214890005, 6.904550069493293, 6.893983550927793, 6.883572010475055, 6.8733119042037005, 6.863199789744297, 6.853232323165193, 6.843406255946315, 6.833718432047624, 6.824165785069536, 6.814745335502181, 6.805454188060788, 6.796289529104518, 6.787248624136031, 6.77832881537939, 6.769527519433662, 6.7608422249999585, 6.752270490679593, 6.7438099428410485, 6.735458273553674, 6.727213238585949, 6.719072655466337, 6.71103440160469, 6.703096412472393, 6.695256679839321, 6.687513250065844, 6.679864222448185, 6.672307747615401, 6.664842025976409, 6.65746530621544, 6.6501758838344225, 6.642972099740851, 6.635852338879662, 6.628815028907698, 6.621858638909565, 6.6149816781534305, 6.6081826948855795, 6.601460275162485, 6.59481304171928, 6.588239652873362, 6.581738801462146, 6.575309213813837, 6.568949648750196, 6.562658896620291, 6.556435778364231, 6.550279144606037, 6.544187874774614, 6.5381608762520305, 6.532197083548178, 6.526295457501078, 6.520454984501907, 6.5146746757440965, 6.508953566495615, 6.503290715393847, 6.497685203762237, 6.49213613494808, 6.486642633680805, 6.481203845450055, 6.475818935902987, 6.470487090260167, 6.465207512749543, 6.459979426057734, 6.4548020707984115, 6.449674704996913, 6.444596603590792, 6.4395670579457, 6.434585375386193, 6.4296508787409365, 6.424762905901873, 6.419920809396931, 6.415123955975847, 6.410371726208648, 6.4056635140965, 6.400998726694411, 6.396376783745526, 6.391797117326515, 6.387259171503912, 6.382762402000863, 6.378306275874065, 6.373890271200546, 6.369513876773974, 6.3651765918102505, 6.360877925661989, 6.356617397541718, 6.352394536253474, 6.348208879932514, 6.344059975792933, 6.339947379882897, 6.33587065684733, 6.331829379697703, 6.327823129588818, 6.323851495602291, 6.319914074536561, 6.316010470703252, 6.312140295729607, 6.3083031683668604, 6.304498714304377, 6.300726565989337, 6.296986362451827, 6.293277749135154, 6.289600377731189, 6.285953906020673, 6.282337997718242, 6.278752322322041, 6.275196554967851, 6.271670376287469, 6.268173472271363, 6.264705534135299, 6.261266258190957, 6.257855345720359, 6.254472502853941, 6.251117440452284, 6.2477898739912066, 6.2444895234503415, 6.241216113204871, 6.23796937192045, 6.234749032451203, 6.231554831740689, 6.2283865107256835, 6.225243814242819, 6.22212649093789, 6.219034293177746, 6.215966976964756, 6.212924301853735, 6.209906030871219, 6.206911930437064, 6.203941770288282, 6.20099532340505, 6.1980723659388, 6.195172677142374, 6.192296039302136, 6.18944223767199, 6.18661106040927, 6.183802298512444, 6.181015745760502, 6.178251198654104, 6.1755084563583065, 6.172787320646933, 6.170087595848449, 6.16740908879333, 6.164751608762888, 6.162114967439513, 6.159498978858253, 6.1569034593597065, 6.154328227544254, 6.151773104227448, 6.149237912396661, 6.146722477168887, 6.144226625749666, 6.141750187393118, 6.139292993363045, 6.13685487689505, 6.1344356731596505, 6.132035219226415, 6.129653354028947, 6.127289918330891, 6.12494475469275, 6.12261770743959, 6.120308622629571, 6.118017348023296, 6.1157437330539395, 6.113487628798133, 6.111248887947601, 6.109027364781516, 6.1068229151395075, 6.104635396395434, 6.102464667431701, 6.100310588614325, 6.0981730217685035, 6.096051830154892, 6.0939468784463795, 6.091858032705457, 6.089785160362185, 6.087728130192582, 6.085686812297618, 6.083661078082725, 6.081650800237665, 6.079655852717034, 6.077676110721126, 6.07571145067726, 6.073761750221543, 6.071826888181071, 6.06990674455651, 6.068001200505098, 6.0661101383240075, 6.064233441434105, 6.062370994364077, 6.060522682734862, 6.0586883932445, 6.0568680136532524, 6.055061432769058, 6.053268540433356, 6.051489227507152, 6.049723385857382, 6.047970908343627, 6.0462316888050465, 6.04450562204761, 6.042792603831612, 6.041092530859373, 6.039405300763323, 6.0377308120941935, 6.036068964309514, 6.034419657762343, 6.032782793690203, 6.031158274204255, 6.029546002278648, 6.027945881740137, 6.026357817257827, 6.024781714333188, 6.023217479290201, 6.021665019265731, 6.020124242200074, 6.018595056827616, 6.0170773726678, 6.0155711000161025, 6.014076149935319, 6.012592434246874, 6.011119865522392, 6.009658357075368, 6.008207822952954, 6.006768177928, 6.005339337491097, 6.003921217842852, 6.002513735886255, 6.001116809219177, 5.9997303561270074, 5.998354295575402, 5.996988547203172, 5.995633031315231, 5.9942876688757485, 5.992952381501316, 5.991627091454294, 5.990311721636251, 5.989006195581458, 5.9877104374505405, 5.986424372024224, 5.985147924697101, 5.983881021471619, 5.982623588952061, 5.9813755543386184, 5.980136845421622, 5.978907390575788, 5.977687118754571, 5.976475959484622, 5.975273842860288, 5.974080699538201, 5.972896460731961, 5.971721058206878, 5.9705544242747886, 5.96939649178893, 5.968247194138932, 5.967106465245802, 5.9659742395570525, 5.964850452041826, 5.963735038186167, 5.962627933988241, 5.961529075953739, 5.960438401091235, 5.959355846907698, 5.9582813514039765, 5.957214853070384, 5.956156290882355, 5.955105604296097, 5.954062733244357, 5.953027618132211, 5.952000199832887, 5.9509804196837015, 5.949968219481935, 5.948963541480895, 5.947966328385914, 5.946976523350432, 5.94599406997213, 5.9450189122891235, 5.9440509947761475, 5.943090262340844, 5.942136660320045, 5.941190134476143, 5.940250630993433, 5.9393180964745955, 5.9383924779370965, 5.937473722809749, 5.9365617789292, 5.9356565945365585, 5.934758118273968, 5.933866299181297, 5.932981086692766, 5.9321024306337495, 5.931230281217446, 5.930364589041735, 5.9295053050859625, 5.9286523807078, 5.92780576764013, 5.926965417987983, 5.926131284225469, 5.925303319192733, 5.924481476093039, 5.923665708489737, 5.92285597030335, 5.9220522158086935, 5.92125439963198, 5.920462476747993, 5.919676402477246, 5.918896132483199, 5.918121622769502, 5.917352829677259, 5.916589709882288, 5.915832220392475, 5.915080318545082, 5.914333962004111, 5.9135931087577305, 5.912857717115637, 5.912127745706528, 5.911403153475533, 5.910683899681736, 5.909969943895633, 5.909261245996707, 5.9085577661709445, 5.907859464908431, 5.907166303000959, 5.906478241539599, 5.905795241912363, 5.905117265801887, 5.904444275183078, 5.903776232320826, 5.903113099767723, 5.90245484036182, 5.901801417224358, 5.901152793757575, 5.90050893364249, 5.899869800836733, 5.899235359572374, 5.898605574353775, 5.897980409955482, 5.897359831420097, 5.896743804056211, 5.896132293436308, 5.89552526539474, 5.894922686025653, 5.894324521681018, 5.893730738968577, 5.893141304749896, 5.892556186138371, 5.891975350497302, 5.891398765437929, 5.890826398817543, 5.890258218737546, 5.8896941935416, 5.889134291813729, 5.888578482376476, 5.888026734289063, 5.8874790168455435, 5.886935299573018, 5.886395552229829, 5.885859744803778, 5.885327847510341, 5.884799830790962, 5.884275665311267, 5.883755321959365, 5.883238771844127, 5.882725986293499, 5.882216936852816, 5.881711595283125, 5.881209933559546, 5.8807119238696215, 5.88021753861167, 5.879726750393215, 5.87923953202932, 5.87875585654107, 5.878275697153919, 5.877799027296192, 5.877325820597482, 5.876856050887155, 5.876389692192781, 5.8759267187386435, 5.875467104944225, 5.875010825422719, 5.874557854979568, 5.874108168610953, 5.873661741502384, 5.873218549027216, 5.8727785667452475, 5.872341770401277, 5.871908135923695, 5.871477639423098, 5.871050257190887, 5.870625965697882, 5.870204741592972, 5.869786561701753, 5.869371403025183, 5.868959242738233, 5.868550058188582, 5.868143826895293, 5.867740526547492, 5.867340135003118, 5.866942630287599, 5.866547990592593, 5.866156194274703, 5.865767219854272, 5.865381046014083, 5.864997651598162, 5.8646170156105395, 5.8642391172140105, 5.863863935728995, 5.863491450632255, 5.863121641555775, 5.862754488285545, 5.862389970760413, 5.862028069070913, 5.861668763458104, 5.861312034312453, 5.8609578621726826, 5.860606227724648, 5.86025711180022, 5.859910495376187, 5.859566359573147, 5.859224685654417, 5.858885455024949, 5.858548649230263, 5.858214249955376, 5.85788223902374, 5.857552598396208, 5.857225310169971, 5.856900356577543, 5.856577719985731, 5.8562573828946, 5.8559393279364835, 5.855623537874989, 5.855309995603971, 5.854998684146567, 5.854689586654213, 5.854382686405688, 5.854077966806114, 5.853775411386025, 5.853475003800412, 5.853176727827784, 5.852880567369215, 5.852586506447443, 5.852294529205934, 5.852004619907962, 5.851716762935712, 5.851430942789374, 5.851147144086259, 5.850865351559907, 5.850585550059197, 5.850307724547491, 5.8500318601017485, 5.849757941911707, 5.849485955278966, 5.849215885616192, 5.848947718446259, 5.848681439401425, 5.848417034222473, 5.848154488757938, 5.847893788963245, 5.847634920899944, 5.847377870734853, 5.847122624739335, 5.8468691692884445, 5.846617490860162, 5.846367576034619, 5.846119411493339, 5.845872984018439, 5.845628280491895, 5.845385287894788, 5.845143993306524, 5.844904383904127, 5.84466644696148, 5.8444301698486, 5.84419554003091, 5.8439625450685035, 5.843731172615475, 5.843501410419133, 5.84327324631937, 5.843046668247931, 5.842821664227683, 5.842598222372017, 5.842376330884073, 5.842155978056101, 5.84193715226879, 5.841719841990597, 5.8415040357770796, 5.841289722270228, 5.841076890197839, 5.840865528372838, 5.840655625692644, 5.840447171138555, 5.840240153775071, 5.840034562749306, 5.839830387290335, 5.839627616708598, 5.839426240395261, 5.83922624782161, 5.839027628538491, 5.838830372175621, 5.838634468441082, 5.83843990712066, 5.838246678077319, 5.838054771250549, 5.837864176655849, 5.837674884384126, 5.837486884601122, 5.837300167546844, 5.837114723535037, 5.836930542952582, 5.836747616258973, 5.836565933985765, 5.836385486735996, 5.836206265183712, 5.836028260073371, 5.835851462219342, 5.835675862505363, 5.835501451884028, 5.835328221376255, 5.8351561620707715, 5.834985265123628, 5.834815521757644, 5.834646923261937, 5.834479460991414, 5.83431312636627, 5.834147910871495, 5.833983806056396, 5.833820803534092, 5.833658894981051, 5.833498072136585, 5.833338326802423, 5.8331796508421805, 5.833022036180933, 5.832865474804751, 5.8327099587602, 5.832555480153929, 5.832402031152202, 5.832249603980441, 5.832098190922774, 5.831947784321611, 5.831798376577198, 5.831649960147153, 5.831502527546079, 5.831356071345097, 5.831210584171435, 5.831066058707992, 5.830922487692943, 5.8307798639192985, 5.8306381802344855, 5.830497429539953, 5.830357604790776, 5.830218698995205, 5.830080705214316, 5.82994361656157, 5.829807426202447, 5.8296721273540415, 5.82953771328466, 5.829404177313462, 5.829271512810043, 5.829139713194096, 5.829008771934985, 5.828878682551402, 5.828749438610983, 5.828621033729952, 5.82849346157273, 5.828366715851587, 5.828240790326281, 5.828115678803693, 5.827991375137471, 5.827867873227691, 5.8277451670204705, 5.827623250507686, 5.827502117726548, 5.827381762759313, 5.827262179732928, 5.8271433628186955, 5.8270253062319215, 5.826908004231622, 5.826791451120143, 5.826675641242868, 5.826560568987894, 5.826446228785681, 5.826332615108759, 5.8262197224713965, 5.826107545429294, 5.825996078579268, 5.8258853165589315, 5.825775254046391, 5.825665885759957, 5.825557206457815, 5.8254492109377445, 5.825341894036796, 5.82523525063103, 5.8251292756351845, 5.825023964002417, 5.824919310723973, 5.8248153108289555, 5.824711959383982, 5.8246092514929355, 5.824507182296667, 5.8244057469727295, 5.8243049407351055, 5.824204758833889, 5.824105196555073, 5.824006249220236, 5.823907912186295, 5.823810180845223, 5.823713050623789, 5.823616516983309, 5.823520575419376, 5.82342522146158, 5.8233304506733, 5.823236258651383, 5.8231426410259575, 5.823049593460134, 5.822957111649791, 5.822865191323301, 5.822773828241295, 5.82268301819641, 5.822592757013072, 5.822503040547233, 5.822413864686142, 5.822325225348102, 5.8222371184822395, 5.822149540068283, 5.822062486116307, 5.821975952666527, 5.821889935789052, 5.821804431583681, 5.82171943617966, 5.821634945735459, 5.821550956438574, 5.821467464505279, 5.821384466180422, 5.821301957737222, 5.821219935477027, 5.821138395729119, 5.821057334850517, 5.820976749225719, 5.820896635266556, 5.820816989411937, 5.820737808127678, 5.82065908790627, 5.82058082526671, 5.820503016754262, 5.820425658940283, 5.820348748422041, 5.820272281822486, 5.820196255790059, 5.8201206669985375, 5.820045512146801, 5.819970787958657, 5.819896491182663, 5.819822618591925, 5.819749166983912, 5.8196761331803, 5.819603514026731, 5.819531306392708, 5.8194595071713415, 5.819388113279214, 5.819317121656207, 5.819246529265297, 5.819176333092395, 5.819106530146183, 5.819037117457927, 5.818968092081304, 5.818899451092258, 5.818831191588805, 5.818763310690867, 5.818695805540139, 5.818628673299873, 5.818561911154776, 5.8184955163107785, 5.818429485994937, 5.818363817455237, 5.81829850796046, 5.818233554799994, 5.8181689552837055, 5.818104706741787, 5.818040806524574, 5.81797725200242, 5.817914040565533, 5.817851169623845, 5.817788636606821, 5.817726438963365, 5.817664574161623, 5.817603039688879, 5.817541833051382, 5.817480951774211, 5.817420393401154, 5.8173601554945185, 5.81730023563504, 5.817240631421714, 5.81718134047169, 5.817122360420073, 5.817063688919866, 5.817005323641769, 5.816947262274085, 5.816889502522574, 5.81683204211031, 5.816774878777584, 5.816718010281719, 5.816661434397017, 5.816605148914548, 5.816549151642073, 5.816493440403934, 5.816438013040869, 5.816382867409938, 5.816328001384381, 5.816273412853503, 5.8162190997225505, 5.816165059912575, 5.816111291360342, 5.816057792018183, 5.816004559853916, 5.815951592850671, 5.815898889006853, 5.815846446335948, 5.815794262866451, 5.815742336641749, 5.81569066572001, 5.815639248174054, 5.815588082091266, 5.815537165573469, 5.815486496736825, 5.815436073711702, 5.815385894642621, 5.815335957688092, 5.815286261020529, 5.815236802826166, 5.8151875813049125, 5.815138594670288, 5.815089841149299, 5.815041318982334, 5.814993026423073, 5.814944961738393, 5.814897123208251, 5.814849509125586, 5.814802117796246, 5.814754947538854, 5.814707996684742, 5.814661263577839, 5.8146147465745885, 5.814568444043828, 5.814522354366731, 5.814476475936691, 5.814430807159227, 5.814385346451897, 5.814340092244226, 5.814295042977587, 5.814250197105116, 5.814205553091657, 5.814161109413609, 5.814116864558912, 5.814072817026901, 5.814028965328264, 5.813985307984907, 5.813941843529936, 5.813898570507489, 5.813855487472742, 5.813812592991756, 5.813769885641434, 5.8137273640094165, 5.813685026694004, 5.8136428723041025, 5.8136008994591, 5.813559106788835, 5.813517492933471, 5.813476056543461, 5.813434796279418, 5.813393710812108, 5.813352798822309, 5.813312059000768, 5.813271490048122, 5.813231090674822, 5.813190859601049, 5.813150795556649, 5.8131108972810726, 5.813071163523285, 5.813031593041688, 5.812992184604067, 5.812952936987508, 5.812913848978357, 5.81287491937208, 5.8128361469732726, 5.812797530595557, 5.812759069061496, 5.8127207612025655, 5.81268260585905, 5.812644601879994, 5.812606748123141, 5.812569043454854, 5.812531486750068, 5.812494076892184, 5.8124568127730765, 5.812419693292959, 5.812382717360362, 5.812345883892057, 5.812309191812985, 5.812272640056234, 5.812236227562912, 5.812199953282149, 5.812163816171006, 5.81212781519441, 5.812091949325119, 5.812056217543633, 5.812020618838169, 5.81198515220457, 5.811949816646263, 5.811914611174209, 5.811879534806844, 5.811844586569988, 5.811809765496849, 5.811775070627915, 5.811740501010929, 5.81170605570083, 5.8116717337596855, 5.81163753425664, 5.811603456267886, 5.811569498876581, 5.811535661172798, 5.811501942253505, 5.811468341222462, 5.81143485719022, 5.811401489274037, 5.8113682365978265, 5.811335098292145, 5.811302073494086, 5.8112691613472816, 5.811236361001802, 5.81120367161418, 5.811171092347279, 5.811138622370309, 5.811106260858725, 5.81107400699425, 5.8110418599647495, 5.811009818964238, 5.810977883192816, 5.810946051856622, 5.810914324167785, 5.810882699344397, 5.810851176610445, 5.810819755195781, 5.810788434336062, 5.810757213272738, 5.810726091252961, 5.810695067529593, 5.810664141361118, 5.810633312011641, 5.810602578750794, 5.810571940853763, 5.810541397601165, 5.810510948279097, 5.810480592179001, 5.8104503285977, 5.810420156837319, 5.810390076205246, 5.810360086014105, 5.810330185581717, 5.810300374231051, 5.810270651290182, 5.810241016092254, 5.810211467975478, 5.810182006283023, 5.810152630363044, 5.810123339568618, 5.810094133257687, 5.81006501079306, 5.810035971542358, 5.810007014877965, 5.809978140177014, 5.809949346821347, 5.809920634197458, 5.809892001696483, 5.809863448714159, 5.809834974650788, 5.809806578911181, 5.809778260904676]\n"
     ]
    },
    {
     "data": {
      "image/png": "[encoded data removed]",
      "text/plain": [
       "<Figure size 640x480 with 1 Axes>"
      ]
     },
     "metadata": {},
     "output_type": "display_data"
    }
   ],
   "source": [
    "(w1, w2, w3, b, losses) = implement_linear_regression_nsamples(X, y, epoch_max=1000, lr=1e-5)\n",
    "print(losses)\n",
    "plt.plot(losses)\n",
    "plt.xlabel(\"#epoch\")\n",
    "plt.ylabel(\"MSE Loss\")\n",
    "plt.show()"
   ]
  },
  {
   "cell_type": "code",
   "execution_count": 919,
   "metadata": {},
   "outputs": [
    {
     "name": "stdout",
     "output_type": "stream",
     "text": [
      "0.06710990754044266 0.15756173831487585 0.029619799386084403\n"
     ]
    }
   ],
   "source": [
    "# Question 11\n",
    "X,y = prepare_data('advertising.csv')\n",
    "# using MSE loss\n",
    "(w1, w2, w3, b, losses) = implement_linear_regression_nsamples(X, y, epoch_max=1000, lr=1e-5)\n",
    "print(w1, w2, w3)"
   ]
  },
  {
   "cell_type": "markdown",
   "metadata": {},
   "source": [
    "# Bài tập 4"
   ]
  },
  {
   "cell_type": "code",
   "execution_count": 920,
   "metadata": {},
   "outputs": [],
   "source": [
    "def prepare_data(file_name_dataset):\n",
    "    data = np.genfromtxt(file_name_dataset, delimiter=',', skip_header=1).tolist()\n",
    "    \n",
    "    # get tv (index=0)\n",
    "    tv_data = get_column(data, 0)\n",
    "\n",
    "    # get radio (index=1)\n",
    "    radio_data = get_column(data, 1)\n",
    "\n",
    "    # get newspaper (index=2)\n",
    "    newspaper_data = get_column(data, 2)\n",
    "\n",
    "    # get sales (index=3)\n",
    "    sales_data = get_column(data, 3)\n",
    "\n",
    "    # building X input and y output for training\n",
    "    # Create list of features for input\n",
    "    X = [[1, x1, x2, x3] for x1, x2, x3 in zip(tv_data, radio_data, newspaper_data)]\n",
    "    y = sales_data\n",
    "    return X,y"
   ]
  },
  {
   "cell_type": "code",
   "execution_count": 921,
   "metadata": {},
   "outputs": [],
   "source": [
    "def initialize_params():\n",
    "    bias = 0\n",
    "    w1 = random.gauss(mu=0.0, sigma=0.01)\n",
    "    w2 = random.gauss(mu=0.0, sigma=0.01)\n",
    "    w3 = random.gauss(mu=0.0, sigma=0.01)\n",
    "    \n",
    "    # return [bias, w1, w2, w3]\n",
    "    return [0, -0.01268850433497871, 0.004752496982185252, 0.0073796171538643845]"
   ]
  },
  {
   "cell_type": "code",
   "execution_count": 922,
   "metadata": {},
   "outputs": [],
   "source": [
    "# Predict output by using y = x0*b + x1*w1 + x2*w2 + x3*w3\n",
    "\n",
    "def predict(X_feature, weights):\n",
    "\n",
    "    result = 0\n",
    "    for i in range(len(weights)):\n",
    "        result = result + X_feature[i] * weights[i]\n",
    "\n",
    "    return result\n",
    "\n",
    "def comput_loss(y_hat, y):\n",
    "    return (y_hat - y) ** 2\n",
    "\n",
    "# compute gradient\n",
    "def compute_gradient_w(X_features, y, y_hat):\n",
    "\n",
    "    dl_dweights = [2 * wi * (y_hat - y) for wi in X_features]\n",
    "\n",
    "    return dl_dweights\n",
    "\n",
    "# update weights\n",
    "def update_weight(weights, dl_dweights, lr):\n",
    "\n",
    "    weights = [weights[i] - lr * dl_dweights[i] for i in range(len(weights))]\n",
    "\n",
    "    return weights"
   ]
  },
  {
   "cell_type": "code",
   "execution_count": 923,
   "metadata": {},
   "outputs": [
    {
     "name": "stdout",
     "output_type": "stream",
     "text": [
      "epoch 0\n",
      "epoch 1\n",
      "epoch 2\n",
      "epoch 3\n",
      "epoch 4\n",
      "epoch 5\n",
      "epoch 6\n",
      "epoch 7\n",
      "epoch 8\n",
      "epoch 9\n",
      "epoch 10\n",
      "epoch 11\n",
      "epoch 12\n",
      "epoch 13\n",
      "epoch 14\n",
      "epoch 15\n",
      "epoch 16\n",
      "epoch 17\n",
      "epoch 18\n",
      "epoch 19\n",
      "epoch 20\n",
      "epoch 21\n",
      "epoch 22\n",
      "epoch 23\n",
      "epoch 24\n",
      "epoch 25\n",
      "epoch 26\n",
      "epoch 27\n",
      "epoch 28\n",
      "epoch 29\n",
      "epoch 30\n",
      "epoch 31\n",
      "epoch 32\n",
      "epoch 33\n",
      "epoch 34\n",
      "epoch 35\n",
      "epoch 36\n",
      "epoch 37\n",
      "epoch 38\n",
      "epoch 39\n",
      "epoch 40\n",
      "epoch 41\n",
      "epoch 42\n",
      "epoch 43\n",
      "epoch 44\n",
      "epoch 45\n",
      "epoch 46\n",
      "epoch 47\n",
      "epoch 48\n",
      "epoch 49\n"
     ]
    },
    {
     "data": {
      "text/plain": [
       "<function matplotlib.pyplot.show(close=None, block=None)>"
      ]
     },
     "execution_count": 923,
     "metadata": {},
     "output_type": "execute_result"
    },
    {
     "data": {
      "image/png": "[encoded data removed]",
      "text/plain": [
       "<Figure size 640x480 with 1 Axes>"
      ]
     },
     "metadata": {},
     "output_type": "display_data"
    }
   ],
   "source": [
    "def implement_linear_regression(X_feature, y_output, epoch_max=50, lr=1e-5):\n",
    "\n",
    "    losses = []\n",
    "    weights = initialize_params()\n",
    "    N = len(y_output)\n",
    "    for epoch in range(epoch_max):\n",
    "        print(\"epoch\", epoch)\n",
    "        for i in range(N):\n",
    "            # get a sample - row i\n",
    "            features_i = X_feature[i]\n",
    "            y = y_output[i]\n",
    "\n",
    "            # compute output\n",
    "            y_hat = predict(features_i, weights)\n",
    "\n",
    "            # compute loss\n",
    "            loss = compute_loss_mse(y_hat, y)\n",
    "\n",
    "            # compute gradient w1, w2, w3, b\n",
    "            dl_dweights = compute_gradient_w(features_i, y, y_hat)\n",
    "\n",
    "            # update parameters\n",
    "            weights = update_weight(weights, dl_dweights, lr)\n",
    "\n",
    "            # logging\n",
    "            losses.append(loss)\n",
    "    return weights, losses\n",
    "\n",
    "X,y = prepare_data('advertising.csv')\n",
    "W,L = implement_linear_regression(X,y)\n",
    "plt.plot(L[0:100])\n",
    "plt.xlabel(\"#iteration\")\n",
    "plt.ylabel(\"Loss\")\n",
    "plt.show"
   ]
  },
  {
   "cell_type": "code",
   "execution_count": 924,
   "metadata": {},
   "outputs": [
    {
     "name": "stdout",
     "output_type": "stream",
     "text": [
      "epoch 0\n",
      "epoch 1\n",
      "epoch 2\n",
      "epoch 3\n",
      "epoch 4\n",
      "epoch 5\n",
      "epoch 6\n",
      "epoch 7\n",
      "epoch 8\n",
      "epoch 9\n",
      "epoch 10\n",
      "epoch 11\n",
      "epoch 12\n",
      "epoch 13\n",
      "epoch 14\n",
      "epoch 15\n",
      "epoch 16\n",
      "epoch 17\n",
      "epoch 18\n",
      "epoch 19\n",
      "epoch 20\n",
      "epoch 21\n",
      "epoch 22\n",
      "epoch 23\n",
      "epoch 24\n",
      "epoch 25\n",
      "epoch 26\n",
      "epoch 27\n",
      "epoch 28\n",
      "epoch 29\n",
      "epoch 30\n",
      "epoch 31\n",
      "epoch 32\n",
      "epoch 33\n",
      "epoch 34\n",
      "epoch 35\n",
      "epoch 36\n",
      "epoch 37\n",
      "epoch 38\n",
      "epoch 39\n",
      "epoch 40\n",
      "epoch 41\n",
      "epoch 42\n",
      "epoch 43\n",
      "epoch 44\n",
      "epoch 45\n",
      "epoch 46\n",
      "epoch 47\n",
      "epoch 48\n",
      "epoch 49\n",
      "31.339223408109948\n"
     ]
    }
   ],
   "source": [
    "# Question 12\n",
    "X,y = prepare_data('advertising.csv')\n",
    "W,L = implement_linear_regression(X, y, epoch_max=50, lr=1e-5)\n",
    "# Print loss value at iteration 9999\n",
    "print(L[9999])"
   ]
  },
  {
   "cell_type": "markdown",
   "metadata": {},
   "source": [
    "# Bài tập 5"
   ]
  },
  {
   "cell_type": "markdown",
   "metadata": {},
   "source": [
    "Kỹ thuật Feature Scaling thông qua min and max"
   ]
  },
  {
   "cell_type": "code",
   "execution_count": 925,
   "metadata": {},
   "outputs": [],
   "source": [
    "def min_max_scaling(data1, data2, data3):\n",
    "    max_data_1 = max(data1)\n",
    "    max_data_2 = max(data2)\n",
    "    max_data_3 = max(data3)\n",
    "\n",
    "    min_data_1 = min(data1)\n",
    "    min_data_2 = min(data2)\n",
    "    min_data_3 = min(data3)\n",
    "    \n",
    "    data1 = [(x - min_data_1) / (max_data_1 - min_data_1) for x in data1]\n",
    "    data2 = [(x - min_data_2) / (max_data_2 - min_data_2) for x in data2]\n",
    "    data3 = [(x - min_data_3) / (max_data_3 - min_data_3) for x in data3]\n",
    "    \n",
    "    return (data1, data2, data3), (max_data_1, max_data_2, max_data_3, min_data_1, min_data_2, min_data_3)"
   ]
  },
  {
   "cell_type": "code",
   "execution_count": 926,
   "metadata": {},
   "outputs": [],
   "source": [
    "def prepare_data(file_name_dataset):\n",
    "    data = np.genfromtxt(file_name_dataset, delimiter=',', skip_header=1).tolist()\n",
    "\n",
    "    # get tv (index = 0)\n",
    "    tv_data = get_column(data, 0)\n",
    "\n",
    "    # get radio (index = 1)\n",
    "    radio_data = get_column(data, 1)\n",
    "\n",
    "    # get newspaper (index = 2)\n",
    "    newspaper_data = get_column(data, 2)\n",
    "\n",
    "    # get sales (index = 3)\n",
    "    sales_data = get_column(data, 3)\n",
    "\n",
    "    # scale data (only for features)\n",
    "    # remember to scale input features in inference, therefore, we need to save max, min, values\n",
    "    print(\"tv_data_old\", tv_data)\n",
    "    print(\"radio_data_old\", radio_data)\n",
    "    print(\"newspaper_data_old\", newspaper_data)\n",
    "    (tv_data, radio_data, newspaper_data), (max_data_1, max_data_2, max_data_3, min_data_1, min_data_2, min_data_3) = min_max_scaling(tv_data, radio_data, newspaper_data)\n",
    "    print(\"tv_data_new\", tv_data)\n",
    "    print(\"radio_data_new\", radio_data)\n",
    "    print(\"newspaper_data_new\", newspaper_data)\n",
    "    # building X input and y output for training\n",
    "    # Create a list of features for input\n",
    "    X = [[1, x1, x2, x3] for x1, x2, x3 in zip(tv_data, radio_data, newspaper_data)]\n",
    "    y = sales_data\n",
    "    return X,y"
   ]
  },
  {
   "cell_type": "code",
   "execution_count": 927,
   "metadata": {},
   "outputs": [
    {
     "name": "stdout",
     "output_type": "stream",
     "text": [
      "tv_data_old [230.1, 44.5, 17.2, 151.5, 180.8, 8.7, 57.5, 120.2, 8.6, 199.8, 66.1, 214.7, 23.8, 97.5, 204.1, 195.4, 67.8, 281.4, 69.2, 147.3, 218.4, 237.4, 13.2, 228.3, 62.3, 262.9, 142.9, 240.1, 248.8, 70.6, 292.9, 112.9, 97.2, 265.6, 95.7, 290.7, 266.9, 74.7, 43.1, 228.0, 202.5, 177.0, 293.6, 206.9, 25.1, 175.1, 89.7, 239.9, 227.2, 66.9, 199.8, 100.4, 216.4, 182.6, 262.7, 198.9, 7.3, 136.2, 210.8, 210.7, 53.5, 261.3, 239.3, 102.7, 131.1, 69.0, 31.5, 139.3, 237.4, 216.8, 199.1, 109.8, 26.8, 129.4, 213.4, 16.9, 27.5, 120.5, 5.4, 116.0, 76.4, 239.8, 75.3, 68.4, 213.5, 193.2, 76.3, 110.7, 88.3, 109.8, 134.3, 28.6, 217.7, 250.9, 107.4, 163.3, 197.6, 184.9, 289.7, 135.2, 222.4, 296.4, 280.2, 187.9, 238.2, 137.9, 25.0, 90.4, 13.1, 255.4, 225.8, 241.7, 175.7, 209.6, 78.2, 75.1, 139.2, 76.4, 125.7, 19.4, 141.3, 18.8, 224.0, 123.1, 229.5, 87.2, 7.8, 80.2, 220.3, 59.6, 0.7, 265.2, 8.4, 219.8, 36.9, 48.3, 25.6, 273.7, 43.0, 184.9, 73.4, 193.7, 220.5, 104.6, 96.2, 140.3, 240.1, 243.2, 38.0, 44.7, 280.7, 121.0, 197.6, 171.3, 187.8, 4.1, 93.9, 149.8, 11.7, 131.7, 172.5, 85.7, 188.4, 163.5, 117.2, 234.5, 17.9, 206.8, 215.4, 284.3, 50.0, 164.5, 19.6, 168.4, 222.4, 276.9, 248.4, 170.2, 276.7, 165.6, 156.6, 218.5, 56.2, 287.6, 253.8, 205.0, 139.5, 191.1, 286.0, 18.7, 39.5, 75.5, 17.2, 166.8, 149.7, 38.2, 94.2, 177.0, 283.6, 232.1]\n",
      "radio_data_old [37.8, 39.3, 45.9, 41.3, 10.8, 48.9, 32.8, 19.6, 2.1, 2.6, 5.8, 24.0, 35.1, 7.6, 32.9, 47.7, 36.6, 39.6, 20.5, 23.9, 27.7, 5.1, 15.9, 16.9, 12.6, 3.5, 29.3, 16.7, 27.1, 16.0, 28.3, 17.4, 1.5, 20.0, 1.4, 4.1, 43.8, 49.4, 26.7, 37.7, 22.3, 33.4, 27.7, 8.4, 25.7, 22.5, 9.9, 41.5, 15.8, 11.7, 3.1, 9.6, 41.7, 46.2, 28.8, 49.4, 28.1, 19.2, 49.6, 29.5, 2.0, 42.7, 15.5, 29.6, 42.8, 9.3, 24.6, 14.5, 27.5, 43.9, 30.6, 14.3, 33.0, 5.7, 24.6, 43.7, 1.6, 28.5, 29.9, 7.7, 26.7, 4.1, 20.3, 44.5, 43.0, 18.4, 27.5, 40.6, 25.5, 47.8, 4.9, 1.5, 33.5, 36.5, 14.0, 31.6, 3.5, 21.0, 42.3, 41.7, 4.3, 36.3, 10.1, 17.2, 34.3, 46.4, 11.0, 0.3, 0.4, 26.9, 8.2, 38.0, 15.4, 20.6, 46.8, 35.0, 14.3, 0.8, 36.9, 16.0, 26.8, 21.7, 2.4, 34.6, 32.3, 11.8, 38.9, 0.0, 49.0, 12.0, 39.6, 2.9, 27.2, 33.5, 38.6, 47.0, 39.0, 28.9, 25.9, 43.9, 17.0, 35.4, 33.2, 5.7, 14.8, 1.9, 7.3, 49.0, 40.3, 25.8, 13.9, 8.4, 23.3, 39.7, 21.1, 11.6, 43.5, 1.3, 36.9, 18.4, 18.1, 35.8, 18.1, 36.8, 14.7, 3.4, 37.6, 5.2, 23.6, 10.6, 11.6, 20.9, 20.1, 7.1, 3.4, 48.9, 30.2, 7.8, 2.3, 10.0, 2.6, 5.4, 5.7, 43.0, 21.3, 45.1, 2.1, 28.7, 13.9, 12.1, 41.1, 10.8, 4.1, 42.0, 35.6, 3.7, 4.9, 9.3, 42.0, 8.6]\n",
      "newspaper_data_old [69.2, 45.1, 69.3, 58.5, 58.4, 75.0, 23.5, 11.6, 1.0, 21.2, 24.2, 4.0, 65.9, 7.2, 46.0, 52.9, 114.0, 55.8, 18.3, 19.1, 53.4, 23.5, 49.6, 26.2, 18.3, 19.5, 12.6, 22.9, 22.9, 40.8, 43.2, 38.6, 30.0, 0.3, 7.4, 8.5, 5.0, 45.7, 35.1, 32.0, 31.6, 38.7, 1.8, 26.4, 43.3, 31.5, 35.7, 18.5, 49.9, 36.8, 34.6, 3.6, 39.6, 58.7, 15.9, 60.0, 41.4, 16.6, 37.7, 9.3, 21.4, 54.7, 27.3, 8.4, 28.9, 0.9, 2.2, 10.2, 11.0, 27.2, 38.7, 31.7, 19.3, 31.3, 13.1, 89.4, 20.7, 14.2, 9.4, 23.1, 22.3, 36.9, 32.5, 35.6, 33.8, 65.7, 16.0, 63.2, 73.4, 51.4, 9.3, 33.0, 59.0, 72.3, 10.9, 52.9, 5.9, 22.0, 51.2, 45.9, 49.8, 100.9, 21.4, 17.9, 5.3, 59.0, 29.7, 23.2, 25.6, 5.5, 56.5, 23.2, 2.4, 10.7, 34.5, 52.7, 25.6, 14.8, 79.2, 22.3, 46.2, 50.4, 15.6, 12.4, 74.2, 25.9, 50.6, 9.2, 3.2, 43.1, 8.7, 43.0, 2.1, 45.1, 65.6, 8.5, 9.3, 59.7, 20.5, 1.7, 12.9, 75.6, 37.9, 34.4, 38.9, 9.0, 8.7, 44.3, 11.9, 20.6, 37.0, 48.7, 14.2, 37.7, 9.5, 5.7, 50.5, 24.3, 45.2, 34.6, 30.7, 49.3, 25.6, 7.4, 5.4, 84.8, 21.6, 19.4, 57.6, 6.4, 18.4, 47.4, 17.0, 12.8, 13.1, 41.8, 20.3, 35.2, 23.7, 17.6, 8.3, 27.4, 29.7, 71.8, 30.0, 19.6, 26.6, 18.2, 3.7, 23.4, 5.8, 6.0, 31.6, 3.6, 6.0, 13.8, 8.1, 6.4, 66.2, 8.7]\n",
      "tv_data_new [0.7757862698681096, 0.14812309773419005, 0.05579979709164694, 0.5099763273588097, 0.6090632397700373, 0.02705444707473791, 0.19208657423063916, 0.40412580317889757, 0.026716266486303684, 0.6733175515725398, 0.2211701048359824, 0.7237064592492392, 0.07811971592830572, 0.3273588096043287, 0.6878593168752114, 0.658437605681434, 0.22691917483936422, 0.9492729117348664, 0.23165370307744337, 0.4957727426445723, 0.7362191410213055, 0.800473452823808, 0.042272573554277985, 0.7696990192762937, 0.2083192424754819, 0.886709502874535, 0.4808927967534664, 0.809604328711532, 0.8390260399053096, 0.23638823131552247, 0.9881636794048022, 0.3794386202231992, 0.32634426783902604, 0.8958403787622592, 0.3212715590125127, 0.9807237064592492, 0.900236726411904, 0.2502536354413257, 0.14338856949611092, 0.7686844775109909, 0.6824484274602638, 0.5962123774095368, 0.9905309435238419, 0.6973283733513698, 0.08251606357795063, 0.5897869462292865, 0.3009807237064593, 0.8089279675346636, 0.7659790328035171, 0.22387554954345623, 0.6733175515725398, 0.33716604666892125, 0.729455529252621, 0.6151504903618533, 0.8860331416976666, 0.6702739262766318, 0.022319918836658775, 0.45823469732837335, 0.7105174163003045, 0.7101792357118701, 0.1785593506932702, 0.8812986134595875, 0.8068988840040583, 0.3449442002029084, 0.44098748731822796, 0.2309773419005749, 0.10415962123774096, 0.4687182955698344, 0.800473452823808, 0.7308082516063579, 0.6709502874535002, 0.36895502198173824, 0.08826513358133244, 0.4352384173148462, 0.7193101115995942, 0.05478525532634427, 0.090632397700372, 0.4051403449442002, 0.015894487656408524, 0.38992221846466013, 0.2560027054447075, 0.8085897869462294, 0.252282718971931, 0.22894825836996957, 0.7196482921880285, 0.650997632735881, 0.2556645248562732, 0.37199864727764625, 0.2962461954683801, 0.36895502198173824, 0.45180926614812317, 0.09435238417314847, 0.7338518769022658, 0.8461278322624283, 0.3608386878593169, 0.5498816367940481, 0.6658775786269868, 0.6229286438958405, 0.977341900574907, 0.4548528914440311, 0.7497463645586744, 1.0, 0.9452147446736557, 0.6330740615488671, 0.8031788975312817, 0.4639837673317552, 0.08217788298951641, 0.3033479878254988, 0.04193439296584376, 0.8613459587419683, 0.761244504565438, 0.8150152181264796, 0.5918160297598918, 0.7064592492390938, 0.2620899560365235, 0.2516063577950625, 0.4683801149814001, 0.2560027054447075, 0.42272573554277987, 0.06323977003719987, 0.47548190733851886, 0.06121068650659453, 0.755157253973622, 0.41393304024349004, 0.7737571863375043, 0.29252620899560366, 0.024010821778829895, 0.26885356780520797, 0.7426445722015558, 0.19918836658775788, 0.0, 0.8944876564085222, 0.02603990530943524, 0.7409536692593847, 0.12242137301318903, 0.16097396009469056, 0.08420696652012176, 0.9232330064254313, 0.14305038890767668, 0.6229286438958405, 0.24585728779168078, 0.6526885356780521, 0.7433209333784242, 0.3513696313831586, 0.3229624619546838, 0.47210010145417663, 0.809604328711532, 0.8200879269529929, 0.1261413594859655, 0.1487994589110585, 0.9469056476158269, 0.4068312478863713, 0.6658775786269868, 0.576936083868786, 0.632735880960433, 0.011498140006763611, 0.31518430842069667, 0.504227257355428, 0.037199864727764625, 0.4430165708488333, 0.5809942509299967, 0.2874535001690903, 0.6347649644910383, 0.5505579979709165, 0.39398038552587084, 0.7906662157592155, 0.05816706121068651, 0.6969901927629355, 0.7260737233682788, 0.959080148799459, 0.16672303009807238, 0.5539398038552588, 0.06391613121406832, 0.5671288468041935, 0.7497463645586744, 0.9340547852553264, 0.8376733175515726, 0.5732160973960095, 0.933378424078458, 0.5576597903280353, 0.5272235373689551, 0.7365573216097396, 0.18769022658099427, 0.9702401082177885, 0.8559350693270208, 0.6909029421711195, 0.4693946567467028, 0.6438958403787624, 0.9648292188028408, 0.0608725059181603, 0.13121406831247887, 0.2529590801487995, 0.05579979709164694, 0.5617179573892459, 0.5038890767669936, 0.12681772066283395, 0.31619885018599936, 0.5962123774095368, 0.9567128846804195, 0.7825498816367941]\n",
      "radio_data_new [0.7620967741935483, 0.7923387096774193, 0.9254032258064515, 0.8326612903225805, 0.21774193548387097, 0.9858870967741935, 0.6612903225806451, 0.3951612903225807, 0.04233870967741936, 0.05241935483870968, 0.11693548387096774, 0.48387096774193544, 0.7076612903225806, 0.15322580645161288, 0.6633064516129031, 0.9616935483870968, 0.7379032258064516, 0.7983870967741935, 0.4133064516129032, 0.4818548387096774, 0.5584677419354839, 0.10282258064516128, 0.32056451612903225, 0.3407258064516129, 0.2540322580645161, 0.07056451612903225, 0.5907258064516129, 0.33669354838709675, 0.5463709677419355, 0.3225806451612903, 0.5705645161290323, 0.3508064516129032, 0.030241935483870965, 0.4032258064516129, 0.0282258064516129, 0.08266129032258064, 0.8830645161290321, 0.9959677419354838, 0.5383064516129032, 0.7600806451612904, 0.4495967741935484, 0.6733870967741935, 0.5584677419354839, 0.16935483870967744, 0.5181451612903225, 0.4536290322580645, 0.19959677419354838, 0.8366935483870968, 0.3185483870967742, 0.23588709677419353, 0.0625, 0.1935483870967742, 0.840725806451613, 0.9314516129032259, 0.5806451612903226, 0.9959677419354838, 0.5665322580645161, 0.3870967741935484, 1.0, 0.594758064516129, 0.04032258064516129, 0.8608870967741936, 0.3125, 0.5967741935483871, 0.8629032258064515, 0.1875, 0.4959677419354839, 0.2923387096774194, 0.5544354838709677, 0.8850806451612903, 0.6169354838709677, 0.28830645161290325, 0.6653225806451613, 0.11491935483870967, 0.4959677419354839, 0.8810483870967742, 0.03225806451612903, 0.5745967741935484, 0.6028225806451613, 0.15524193548387097, 0.5383064516129032, 0.08266129032258064, 0.4092741935483871, 0.8971774193548386, 0.8669354838709677, 0.3709677419354838, 0.5544354838709677, 0.8185483870967742, 0.5141129032258064, 0.9637096774193548, 0.09879032258064517, 0.030241935483870965, 0.6754032258064516, 0.7358870967741935, 0.282258064516129, 0.6370967741935484, 0.07056451612903225, 0.42338709677419356, 0.8528225806451613, 0.840725806451613, 0.08669354838709677, 0.7318548387096774, 0.2036290322580645, 0.34677419354838707, 0.691532258064516, 0.9354838709677419, 0.2217741935483871, 0.006048387096774193, 0.008064516129032258, 0.5423387096774193, 0.16532258064516128, 0.7661290322580645, 0.31048387096774194, 0.4153225806451613, 0.9435483870967741, 0.7056451612903225, 0.28830645161290325, 0.016129032258064516, 0.7439516129032258, 0.3225806451612903, 0.5403225806451613, 0.4375, 0.04838709677419355, 0.6975806451612904, 0.6512096774193548, 0.23790322580645162, 0.784274193548387, 0.0, 0.9879032258064516, 0.24193548387096772, 0.7983870967741935, 0.05846774193548387, 0.5483870967741935, 0.6754032258064516, 0.7782258064516129, 0.9475806451612903, 0.7862903225806451, 0.5826612903225806, 0.5221774193548386, 0.8850806451612903, 0.34274193548387094, 0.7137096774193548, 0.6693548387096775, 0.11491935483870967, 0.29838709677419356, 0.03830645161290322, 0.1471774193548387, 0.9879032258064516, 0.8124999999999999, 0.5201612903225806, 0.28024193548387094, 0.16935483870967744, 0.46975806451612906, 0.8004032258064516, 0.4254032258064516, 0.23387096774193547, 0.877016129032258, 0.02620967741935484, 0.7439516129032258, 0.3709677419354838, 0.3649193548387097, 0.721774193548387, 0.3649193548387097, 0.7419354838709676, 0.29637096774193544, 0.06854838709677419, 0.7580645161290323, 0.10483870967741936, 0.47580645161290325, 0.21370967741935482, 0.23387096774193547, 0.42137096774193544, 0.405241935483871, 0.14314516129032256, 0.06854838709677419, 0.9858870967741935, 0.6088709677419355, 0.15725806451612903, 0.04637096774193548, 0.20161290322580644, 0.05241935483870968, 0.10887096774193548, 0.11491935483870967, 0.8669354838709677, 0.42943548387096775, 0.9092741935483871, 0.04233870967741936, 0.5786290322580645, 0.28024193548387094, 0.24395161290322578, 0.8286290322580645, 0.21774193548387097, 0.08266129032258064, 0.8467741935483871, 0.717741935483871, 0.07459677419354839, 0.09879032258064517, 0.1875, 0.8467741935483871, 0.17338709677419353]\n",
      "newspaper_data_new [0.6059806508355321, 0.3940193491644679, 0.6068601583113457, 0.5118733509234829, 0.5109938434476693, 0.6569920844327177, 0.2040457343887423, 0.0993843447669305, 0.00615655233069481, 0.18381706244503077, 0.2102022867194371, 0.032541776605101144, 0.5769569041336852, 0.06068601583113457, 0.4019349164467898, 0.4626209322779244, 1.0, 0.48812664907651715, 0.15831134564643798, 0.16534740545294635, 0.46701846965699206, 0.2040457343887423, 0.4335971855760774, 0.227792436235708, 0.15831134564643798, 0.16886543535620052, 0.10817941952506595, 0.198768689533861, 0.198768689533861, 0.35620052770448546, 0.3773087071240106, 0.33685136323658754, 0.26121372031662266, 0.0, 0.06244503078276166, 0.07211961301671063, 0.04133685136323659, 0.3992963940193492, 0.3060686015831135, 0.27880386983289357, 0.2752858399296394, 0.3377308707124011, 0.013192612137203167, 0.22955145118733508, 0.3781882145998241, 0.27440633245382584, 0.3113456464379948, 0.16007036059806506, 0.436235708003518, 0.3210202286719437, 0.30167106420404577, 0.02902374670184697, 0.345646437994723, 0.51363236587511, 0.13720316622691292, 0.525065963060686, 0.36147757255936674, 0.14335971855760773, 0.32893579595426564, 0.07915567282321899, 0.18557607739665785, 0.4784520668425682, 0.23746701846965698, 0.07124010554089709, 0.2515391380826737, 0.005277044854881267, 0.016710642040457344, 0.08707124010554088, 0.09410729991204925, 0.23658751099384343, 0.3377308707124011, 0.27616534740545295, 0.16710642040457344, 0.2726473175021988, 0.11257695690413368, 0.7836411609498681, 0.17941952506596304, 0.12225153913808266, 0.08003518029903253, 0.20052770448548812, 0.19349164467897978, 0.32189973614775724, 0.2832014072119613, 0.3104661389621812, 0.29463500439753737, 0.575197889182058, 0.13808267370272648, 0.5532102022867195, 0.642919964819701, 0.4494283201407212, 0.07915567282321899, 0.287598944591029, 0.5162708883025506, 0.6332453825857519, 0.0932277924362357, 0.4626209322779244, 0.04925241864555849, 0.19085312225153914, 0.44766930518909415, 0.40105540897097625, 0.43535620052770446, 0.8847845206684257, 0.18557607739665785, 0.1547933157431838, 0.043975373790677216, 0.5162708883025506, 0.25857519788918204, 0.20140721196130165, 0.22251539138082674, 0.04573438874230431, 0.494283201407212, 0.20140721196130165, 0.018469656992084433, 0.0914687774846086, 0.3007915567282322, 0.46086191732629733, 0.22251539138082674, 0.12752858399296393, 0.6939313984168866, 0.19349164467897978, 0.4036939313984169, 0.44063324538258575, 0.13456464379947228, 0.10642040457343886, 0.6499560246262094, 0.22515391380826735, 0.44239226033421286, 0.07827616534740543, 0.02550571679859279, 0.37642919964819704, 0.07387862796833772, 0.3755496921723835, 0.0158311345646438, 0.3940193491644679, 0.5743183817062445, 0.07211961301671063, 0.07915567282321899, 0.5224274406332454, 0.17766051011433595, 0.01231310466138962, 0.11081794195250659, 0.662269129287599, 0.3306948109058927, 0.29991204925241866, 0.33948988566402816, 0.07651715039577836, 0.07387862796833772, 0.38698328935795956, 0.10202286719437115, 0.1785400175901495, 0.3227792436235708, 0.42568161829375556, 0.12225153913808266, 0.32893579595426564, 0.08091468777484608, 0.0474934036939314, 0.4415127528583993, 0.21108179419525067, 0.39489885664028146, 0.30167106420404577, 0.2673702726473175, 0.43095866314863673, 0.22251539138082674, 0.06244503078276166, 0.044854881266490766, 0.743183817062445, 0.18733509234828497, 0.16798592788038696, 0.503957783641161, 0.05364995602462621, 0.1591908531222515, 0.41424802110817943, 0.1468777484608619, 0.10993843447669305, 0.11257695690413368, 0.3649956024626209, 0.17590149516270887, 0.30694810905892705, 0.20580474934036938, 0.1521547933157432, 0.07036059806508355, 0.2383465259454705, 0.25857519788918204, 0.6288478452066842, 0.26121372031662266, 0.16974494283201408, 0.2313104661389622, 0.15743183817062442, 0.029903254177660512, 0.20316622691292874, 0.048372911169744945, 0.05013192612137203, 0.2752858399296394, 0.02902374670184697, 0.05013192612137203, 0.11873350923482849, 0.06860158311345646, 0.05364995602462621, 0.5795954265611258, 0.07387862796833772]\n",
      "epoch 0\n",
      "epoch 1\n",
      "epoch 2\n",
      "epoch 3\n",
      "epoch 4\n",
      "epoch 5\n",
      "epoch 6\n",
      "epoch 7\n",
      "epoch 8\n",
      "epoch 9\n",
      "epoch 10\n",
      "epoch 11\n",
      "epoch 12\n",
      "epoch 13\n",
      "epoch 14\n",
      "epoch 15\n",
      "epoch 16\n",
      "epoch 17\n",
      "epoch 18\n",
      "epoch 19\n",
      "epoch 20\n",
      "epoch 21\n",
      "epoch 22\n",
      "epoch 23\n",
      "epoch 24\n",
      "epoch 25\n",
      "epoch 26\n",
      "epoch 27\n",
      "epoch 28\n",
      "epoch 29\n",
      "epoch 30\n",
      "epoch 31\n",
      "epoch 32\n",
      "epoch 33\n",
      "epoch 34\n",
      "epoch 35\n",
      "epoch 36\n",
      "epoch 37\n",
      "epoch 38\n",
      "epoch 39\n",
      "epoch 40\n",
      "epoch 41\n",
      "epoch 42\n",
      "epoch 43\n",
      "epoch 44\n",
      "epoch 45\n",
      "epoch 46\n",
      "epoch 47\n",
      "epoch 48\n",
      "epoch 49\n"
     ]
    },
    {
     "data": {
      "text/plain": [
       "<function matplotlib.pyplot.show(close=None, block=None)>"
      ]
     },
     "execution_count": 927,
     "metadata": {},
     "output_type": "execute_result"
    },
    {
     "data": {
      "image/png": "[encoded data removed]",
      "text/plain": [
       "<Figure size 640x480 with 1 Axes>"
      ]
     },
     "metadata": {},
     "output_type": "display_data"
    }
   ],
   "source": [
    "X,y = prepare_data('advertising.csv')\n",
    "W,L = implement_linear_regression(X,y)\n",
    "plt.plot(L[-100:])\n",
    "plt.xlabel(\"#iteration\")\n",
    "plt.ylabel(\"MSE Loss\")\n",
    "plt.show"
   ]
  }
 ],
 "metadata": {
  "kernelspec": {
   "display_name": "Python 3",
   "language": "python",
   "name": "python3"
  },
  "language_info": {
   "codemirror_mode": {
    "name": "ipython",
    "version": 3
   },
   "file_extension": ".py",
   "mimetype": "text/x-python",
   "name": "python",
   "nbconvert_exporter": "python",
   "pygments_lexer": "ipython3",
   "version": "3.11.4"
  }
 },
 "nbformat": 4,
 "nbformat_minor": 2
}
